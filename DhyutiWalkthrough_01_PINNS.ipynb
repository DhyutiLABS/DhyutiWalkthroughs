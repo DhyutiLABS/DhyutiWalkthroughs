{
  "nbformat": 4,
  "nbformat_minor": 0,
  "metadata": {
    "colab": {
      "private_outputs": true,
      "provenance": []
    },
    "kernelspec": {
      "name": "python3",
      "display_name": "Python 3"
    },
    "language_info": {
      "name": "python"
    }
  },
  "cells": [
    {
      "cell_type": "markdown",
      "source": [
        "# Dhyuti Walkthroughs - PINNs for inverse problems through 1D analogs of various domains\n",
        "Author: Rahul Sundar (2025), Dhyuti\n",
        "\n",
        "Purpose: Generate analytic/synthetic data for PINN pretraining\n"
      ],
      "metadata": {
        "id": "m_qMpCd4r28O"
      }
    },
    {
      "cell_type": "markdown",
      "source": [
        "# 🔥 Physics-Informed Neural Networks (PINNs) — A Hands-on Intuition Builder\n",
        "\n",
        "Welcome!  \n",
        "This notebook is designed for a **multi-domain audience** — whether you come from  \n",
        "- 🌊 Fluid Dynamics  \n",
        "- 🧱 Material Science  \n",
        "- 🧮 Nonlinear Dynamics  \n",
        "- 💰 Quantitative Finance  \n",
        "- 🧫 Computational Biology  \n",
        "- 🌐 Geospatial & Climate Science  \n",
        "- ⚡ Electromagnetics & Field Inversions  \n",
        "- 🚗 EV & Engineering Design  \n",
        "\n",
        "Here, you’ll find a **simple 1D differential equation analog** that you can visualize and use to understand how PINNs bridge physics and data.\n",
        "\n",
        "Each domain’s example corresponds to a simple **closed-form (analytic)** 1D PDE/ODE that we can visualize and later feed into a PINN training workflow.\n",
        "\n",
        "Let’s begin!"
      ],
      "metadata": {
        "id": "Izbu-AVcsyt6"
      }
    },
    {
      "cell_type": "code",
      "execution_count": null,
      "metadata": {
        "id": "_X0WS92irrvt"
      },
      "outputs": [],
      "source": [
        "import numpy as np\n",
        "import matplotlib.pyplot as plt\n",
        "from matplotlib import cm\n",
        "from ipywidgets import interact, Dropdown, FloatSlider, fixed\n",
        "import math"
      ]
    },
    {
      "cell_type": "markdown",
      "source": [
        "# ⚙️ Domain Equations and Analytical Solutions\n",
        "\n",
        "Below are **1D analogs** representing the *essence* of various complex systems across disciplines.  \n",
        "Each equation expresses the governing physical, biological, or financial law that can be encoded in a **Physics-Informed Neural Network (PINN)**.\n",
        "\n",
        "---\n",
        "\n",
        "| **Domain** | **Representative Equation** | **Description** |\n",
        "|-------------|-----------------------------|-----------------|\n",
        "| **Material Science** | $$\\frac{\\partial u}{\\partial t} = D \\frac{\\partial^2 u}{\\partial x^2}$$ | Models heat or atom diffusion through a medium. |\n",
        "| **Fluid Dynamics** | $$\\frac{\\partial u}{\\partial t} + u \\frac{\\partial u}{\\partial x} = \\nu \\frac{\\partial^2 u}{\\partial x^2}$$ | 1D analog of the Navier–Stokes equation, showing nonlinear advection and viscous effects. |\n",
        "| **Nonlinear Dynamics** | $$\\frac{d^2 u}{d t^2} + \\delta \\frac{d u}{d t} + \\alpha u + \\beta u^3 = 0$$ | The Duffing oscillator: nonlinear restoring force model. |\n",
        "| **Investment Banking** | $$\\frac{\\partial V}{\\partial t} + \\frac{1}{2}\\sigma^2 S^2 \\frac{\\partial^2 V}{\\partial S^2} + rS \\frac{\\partial V}{\\partial S} - rV = 0$$ | The Black–Scholes PDE for option pricing. |\n",
        "| **Computational Biology** | $$\\frac{d u}{d t} = r u \\left(1 - \\frac{u}{K}\\right)$$ | Logistic growth model showing population saturation. |\n",
        "| **Graph Theory (Diffusion)** | $$\\frac{d u}{d t} = L u$$ | Diffusion on a graph, simplified here as a 1D Laplacian. |\n",
        "| **Geospatial Sciences** | $$\\frac{\\partial u}{\\partial t} + c \\frac{\\partial u}{\\partial x} = D \\frac{\\partial^2 u}{\\partial x^2}$$ | Advection–diffusion of heat or pollutants. |\n",
        "| **Electromagnetics** | $$\\frac{\\partial^2 E}{\\partial x^2} = \\frac{1}{c^2}\\frac{\\partial^2 E}{\\partial t^2}$$ | 1D wave equation describing field propagation. |\n",
        "| **EV Domain** | $$\\frac{dV}{dt} + \\frac{V}{RC} = \\frac{V_{\\text{in}}(t)}{RC}$$ | RC circuit charge/discharge model for EV systems. |\n",
        "| **Climate Modeling** | $$C \\frac{dT}{dt} = S(1 - \\alpha) - \\varepsilon \\sigma T^4$$ | Global mean energy balance for Earth’s temperature. |\n",
        "| **Engineering Design** | $$\\frac{d^2 y}{d x^2} = \\frac{M(x)}{E I}$$ | Beam bending equation representing elastic deformation. |\n",
        "\n",
        "---\n",
        "\n",
        "💡 **Note:**  \n",
        "Each equation can serve as the governing constraint in a **PINN**, where instead of solving directly via discretization, the neural network learns a function $ u(x, t) $ (or $ V(t)$, $ T(t) $, etc.) that *minimizes both data loss and physics loss*.\n",
        "\n",
        "\n",
        "**Material Science Setup:**  \n",
        "- **1D Analog:** Heat diffusion along a rod.  \n",
        "- **Domain:** $ x \\in [0, 1] $, $ t \\in [0, 1] $  \n",
        "- **Initial Condition:** $ u(x, 0) = \\sin(\\pi x) $  \n",
        "- **Boundary Conditions:** $ u(0, t) = u(1, t) = 0 $  \n",
        "- **Analytical Solution:** $ u(x, t) = e^{-\\pi^2 D t} \\sin(\\pi x) $  \n",
        "- **Applications:** Thermal conduction in solids, atomic diffusion, sintering, semiconductor doping, corrosion modeling.\n",
        "\n",
        "**Fuid Dynamics setup:**  \n",
        "- **1D Analog:** Flow velocity in a viscous channel.  \n",
        "- **Domain:** $ x \\in [-1, 1] $, $ t \\in [0, 1] $\n",
        "- **Initial Condition:** $ u(x, 0) = -\\sin(\\pi x) $  \n",
        "- **Boundary Conditions:** $ u(-1, t) = u(1, t) = 0 $  \n",
        "- **Analytical Solution:** Approximate with Cole–Hopf transformation.  \n",
        "- **Applications:** Shock formation, turbulence modeling, aerodynamic drag estimation, fluid–structure interactions.\n",
        "\n",
        "\n",
        "**Nonlinear dynamics setup:**  \n",
        "- **1D Analog:** Mass on a nonlinear spring.  \n",
        "- **Domain:** $ t \\in [0, 20] $\n",
        "- **Initial Condition:** $ u(0) = 1, \\ \\dot{u}(0) = 0 $  \n",
        "- **Boundary Conditions:** None (time evolution problem).  \n",
        "- **Applications:** Nonlinear vibrations in beams, MEMS, climate oscillations, neuronal models, forced oscillators in electronics.\n",
        "\n",
        "\n",
        "**Financial systems / Investment banking example setup:**  \n",
        "- **1D Analog:** Option price as function of asset price $ S $ and time $ t $.  \n",
        "- **Domain:** $ S \\in [0, 1], \\ t \\in [0, 1] $  \n",
        "- **Initial Condition:** $ V(S, 0) = \\max(S - K, 0) $ (call option payoff).  \n",
        "- **Boundary Conditions:** $ V(0, t) = 0, \\ V(1, t) = 1 - e^{-r t} $.  \n",
        "- **Analytical Solution:** Black–Scholes formula.  \n",
        "- **Applications:** Derivative pricing, risk modeling, financial forecasting, hedging strategy optimization.\n",
        "\n",
        "\n",
        "**Computational Biology example setup:**  \n",
        "- **1D Analog:** Population density vs. time.  \n",
        "- **Domain:** $ t \\in [0, 10] $  \n",
        "- **Initial Condition:** $ u(0) = 0.1K $\n",
        "- **Analytical Solution:** $ u(t) = \\frac{K}{1 + A e^{-r t}} $, where $ A = \\frac{K - u_0}{u_0} $.  \n",
        "- **Applications:** Bacterial population, tumor growth, ecological dynamics, epidemic spread.\n",
        "\n",
        "\n",
        "**Graph theory setup:**  \n",
        "- **1D Analog:** Linear diffusion chain.  \n",
        "- **Domain:** $ x \\in [0, 1], \\ t \\in [0, 1] $  \n",
        "- **Initial Condition:** $ u(x, 0) = \\sin(\\pi x) $\n",
        "- **Boundary Conditions:** Dirichlet zero boundaries.  \n",
        "- **Applications:** Network heat diffusion, consensus dynamics, random walks on graphs, community detection.\n",
        "\n",
        "\n",
        "**Geospatial sciences setup:**  \n",
        "- **1D Analog:** Pollutant transport in a river.  \n",
        "- **Domain:** $ x \\in [0, 1], \\ t \\in [0, 1] $\n",
        "- **Initial Condition:** $ u(x, 0) = e^{-(x - 0.5)^2 / 0.01} $  \n",
        "- **Boundary Conditions:** $ u(0, t) = u(1, t) = 0 $  \n",
        "- **Analytical Solution:** Gaussian pulse with drift.  \n",
        "- **Applications:** Climate tracer transport, groundwater flow, pollutant modeling, erosion prediction.\n",
        "\n",
        "**Electromagnetics setup:**  \n",
        "- **1D Analog:** Vibrating string or EM wave along a wire.  \n",
        "- **Domain:** $ x \\in [0, 1], \\ t \\in [0, 2] $  \n",
        "- **Initial Condition:** $ E(x, 0) = \\sin(\\pi x), \\ \\partial_t E(x, 0) = 0 $  \n",
        "- **Boundary Conditions:** $ E(0, t) = E(1, t) = 0 $.  \n",
        "- **Analytical Solution:** $ E(x, t) = \\sin(\\pi x) \\cos(\\pi c t) $.  \n",
        "- **Applications:** Signal propagation, microwave resonances, antenna field simulation.\n",
        "\n",
        "\n",
        "**Electric vehicles use case setup:**  \n",
        "- **1D Analog:** Charging capacitor through resistor.  \n",
        "- **Domain:** $ t \\in [0, 10] $  \n",
        "- **Initial Condition:** $ V(0) = 0 $  \n",
        "- **Analytical Solution:** $ V(t) = V_{\\text{in}}(1 - e^{-t/(RC)}) $.  \n",
        "- **Applications:** EV battery models, thermal analogs, BMS simulations.\n",
        "\n",
        "\n",
        "**Climate modelling setup:**  \n",
        "- **1D Analog:** Earth’s mean temperature over time.  \n",
        "- **Domain:** $ t \\in [0, 100] $  \n",
        "- **Initial Condition:** $ T(0) = 288\\text{ K} $  \n",
        "- **Analytical Solution:** Approximate via steady-state $ T = \\left(\\frac{S(1 - \\alpha)}{\\varepsilon \\sigma}\\right)^{1/4} $.  \n",
        "- **Applications:** Climate prediction, sensitivity to albedo or CO₂ forcing, planetary habitability.\n",
        "\n",
        "\n",
        "**Engineering design setup:**  \n",
        "- **1D Analog:** Uniform beam under central load.  \n",
        "- **Domain:** $ x \\in [0, 1] $\n",
        "- **Boundary Conditions:** $ y(0) = y(1) = 0 $  \n",
        "- **Analytical Solution:** $ y(x) = \\frac{M_0 x (1 - x)}{2 E I} $.  \n",
        "- **Applications:** Structural optimization, aerospace and mechanical design, deformation analysis.\n",
        "\n",
        "---\n",
        "\n",
        "🌍 **Summary Insight:**  \n",
        "Each of these simple **1D analogs** hides a vast world of physics, finance, and biology beneath them.  \n",
        "By encoding these equations into **PINN loss functions**, we can recover missing data, infer parameters, or perform forward simulations *without explicit meshing*, making them a perfect entry point for your audience across domains.\n",
        "\n"
      ],
      "metadata": {
        "id": "uoGMei5Os9kX"
      }
    },
    {
      "cell_type": "markdown",
      "source": [],
      "metadata": {
        "id": "ZIaiL5gYtCwH"
      }
    },
    {
      "cell_type": "code",
      "source": [
        "# --- 1D Heat Equation (u_t = α u_xx) ---\n",
        "def heat_equation(x, t, alpha=0.01, L=1.0):\n",
        "    return np.exp(-alpha * (np.pi**2 / L**2) * t) * np.sin(np.pi * x / L)\n",
        "\n",
        "# --- Burgers’ Equation (approx analytic form) ---\n",
        "def burgers_equation(x, t, nu=0.01/np.pi):\n",
        "    phi = np.exp(-(x - 4*t)**2 / (4*nu*(t+1))) + np.exp(-(x - 4*t - 2*np.pi)**2 / (4*nu*(t+1)))\n",
        "    u = -2*nu*(phi**(-1))*((-(x - 4*t)/(2*nu*(t+1)))*np.exp(-(x - 4*t)**2/(4*nu*(t+1))) +\n",
        "                           (-(x - 4*t - 2*np.pi)/(2*nu*(t+1)))*np.exp(-(x - 4*t - 2*np.pi)**2/(4*nu*(t+1))))\n",
        "    return u\n",
        "\n",
        "# --- Advection–Diffusion Gaussian Packet ---\n",
        "def advection_diffusion(x, t, c=1.0, D=0.01):\n",
        "    return np.exp(-((x - c*t)**2) / (4*D*(t + 1))) / np.sqrt(4*np.pi*D*(t + 1))\n",
        "\n",
        "# --- Duffing Oscillator (simple approximation) ---\n",
        "def duffing_oscillator(t, delta=0.2, alpha=-1, beta=1, gamma=0.3, omega=1.2):\n",
        "    return np.exp(-delta*t)*(np.cos(omega*t) + 0.5*np.sin(omega*t))\n",
        "\n",
        "# --- Ornstein–Uhlenbeck process (mean function only) ---\n",
        "def ornstein_uhlenbeck(t, mu=0.0, theta=0.7, x0=1.0):\n",
        "    return mu + (x0 - mu)*np.exp(-theta*t)\n",
        "\n",
        "# --- Eigenvalue / time-growth problem example ---\n",
        "def exponential_growth(t, lam=0.5):\n",
        "    return np.exp(lam*t)\n",
        "\n",
        "# --- Steady-state Poisson / Beam deflection ---\n",
        "def poisson_steady(x, L=1.0):\n",
        "    return 0.5*(x*(L - x))\n",
        "\n",
        "# --- Biological / diffusion steady-state (logistic shape) ---\n",
        "def bio_steady(x, k=10):\n",
        "    return 1 / (1 + np.exp(-k*(x - 0.5)))"
      ],
      "metadata": {
        "id": "AzdkAcxEr0RR"
      },
      "execution_count": null,
      "outputs": []
    },
    {
      "cell_type": "markdown",
      "source": [
        "## 🧮 Step 3 — Create a 1D Space-Time Grid\n",
        "\n",
        "We’ll define a uniform grid for `(x, t)` that can be reused across all PDEs.\n",
        "\n",
        "## 🎨 Step 4 — Plot Solutions\n",
        "\n",
        "We’ll use a color mesh to visualize how the field evolves in space and time for each PDE.\n"
      ],
      "metadata": {
        "id": "mgB4QKsGtF6e"
      }
    },
    {
      "cell_type": "code",
      "source": [
        "def generate_grid_1D(nx=100, nt=100, tmax=1.0):\n",
        "    x = np.linspace(0, 1, nx)\n",
        "    t = np.linspace(0, tmax, nt)\n",
        "    X, T = np.meshgrid(x, t)\n",
        "    return X, T\n",
        "\n",
        "def plot_solution(X, T, U, title=\"\"):\n",
        "    fig = plt.figure(figsize=(6,4))\n",
        "    cp = plt.pcolormesh(X, T, U, shading='auto', cmap=cm.viridis)\n",
        "    plt.colorbar(cp)\n",
        "    plt.xlabel(\"x\")\n",
        "    plt.ylabel(\"t\")\n",
        "    plt.title(title)\n",
        "    plt.show()\n",
        "\n",
        "\n",
        "def visualize_equation(eq_name, nx=100, nt=100, noise=0.0):\n",
        "    X, T = generate_grid_1D(nx, nt)\n",
        "\n",
        "    if eq_name == \"Heat Equation\":\n",
        "        U = heat_equation(X, T)\n",
        "    elif eq_name == \"Burgers Equation\":\n",
        "        U = burgers_equation(X, T)\n",
        "    elif eq_name == \"Advection–Diffusion\":\n",
        "        U = advection_diffusion(X, T)\n",
        "    elif eq_name == \"Duffing Oscillator\":\n",
        "        X, T = np.meshgrid(np.linspace(0, 1, nx), np.linspace(0, 10, nt))\n",
        "        U = duffing_oscillator(T)\n",
        "    elif eq_name == \"Ornstein–Uhlenbeck\":\n",
        "        X, T = np.meshgrid(np.linspace(0, 1, nx), np.linspace(0, 10, nt))\n",
        "        U = ornstein_uhlenbeck(T)\n",
        "    elif eq_name == \"Exponential Growth\":\n",
        "        X, T = np.meshgrid(np.linspace(0, 1, nx), np.linspace(0, 5, nt))\n",
        "        U = exponential_growth(T)\n",
        "    elif eq_name == \"Poisson Steady State\":\n",
        "        X, T = np.meshgrid(np.linspace(0, 1, nx), np.zeros(nt))\n",
        "        U = poisson_steady(X)\n",
        "    elif eq_name == \"Bio Steady State\":\n",
        "        X, T = np.meshgrid(np.linspace(0, 1, nx), np.zeros(nt))\n",
        "        U = bio_steady(X)\n",
        "    else:\n",
        "        raise ValueError(\"Unknown equation name\")\n",
        "\n",
        "    if noise > 0:\n",
        "        U += noise * np.random.randn(*U.shape)\n",
        "\n",
        "    plot_solution(X, T, U, title=eq_name)\n"
      ],
      "metadata": {
        "id": "1FeRC_7qsIqZ"
      },
      "execution_count": null,
      "outputs": []
    },
    {
      "cell_type": "markdown",
      "source": [
        "## 🧠 Step 5 — Interactive PINN Domain Explorer\n",
        "\n",
        "Use the dropdown to pick a domain.  \n",
        "Each domain corresponds to a physical process with a **different governing equation**.\n"
      ],
      "metadata": {
        "id": "xfZdrFEJtKDN"
      }
    },
    {
      "cell_type": "code",
      "source": [
        "interact(\n",
        "    visualize_equation,\n",
        "    eq_name=Dropdown(\n",
        "        options=[\"Heat Equation\", \"Burgers Equation\", \"Advection–Diffusion\",\n",
        "                 \"Duffing Oscillator\", \"Ornstein–Uhlenbeck\",\n",
        "                 \"Exponential Growth\", \"Poisson Steady State\", \"Bio Steady State\"],\n",
        "        value=\"Heat Equation\",\n",
        "        description=\"Equation:\"\n",
        "    ),\n",
        "    nx=fixed(150),\n",
        "    nt=fixed(150),\n",
        "    noise=FloatSlider(min=0, max=0.2, step=0.01, value=0.0, description=\"Noise\")\n",
        ");\n"
      ],
      "metadata": {
        "id": "0NpJmJgasMq1"
      },
      "execution_count": null,
      "outputs": []
    },
    {
      "cell_type": "markdown",
      "source": [
        "## 💾 Step 6 — Save Synthetic Data for PINN Training\n",
        "\n",
        "You can export the grid and corresponding `U(x, t)` field as `.npz` files.\n",
        "These can then be loaded into PyTorch/TensorFlow for PINN training.\n"
      ],
      "metadata": {
        "id": "NPcxIBxTtQYY"
      }
    },
    {
      "cell_type": "code",
      "source": [
        "def export_solution(eq_name, nx=100, nt=100, filename=\"synthetic_data.npz\"):\n",
        "    X, T = generate_grid_1D(nx, nt)\n",
        "    eq_funcs = {\n",
        "        \"Heat Equation\": heat_equation,\n",
        "        \"Burgers Equation\": burgers_equation,\n",
        "        \"Advection–Diffusion\": advection_diffusion,\n",
        "        \"Duffing Oscillator\": lambda x, t: duffing_oscillator(t),\n",
        "        \"Ornstein–Uhlenbeck\": lambda x, t: ornstein_uhlenbeck(t),\n",
        "        \"Exponential Growth\": lambda x, t: exponential_growth(t),\n",
        "        \"Poisson Steady State\": lambda x, t: poisson_steady(x),\n",
        "        \"Bio Steady State\": lambda x, t: bio_steady(x),\n",
        "    }\n",
        "    U = eq_funcs[eq_name](X, T)\n",
        "    np.savez(filename, X=X, T=T, U=U)\n",
        "    print(f\"✅ Saved {filename}\")\n",
        "\n",
        "def load_solution(filename=\"synthetic_data.npz\"):\n",
        "    data = np.load(filename)\n",
        "    print(\"🔍 Keys:\", data.files)\n",
        "    return data[\"X\"], data[\"T\"], data[\"U\"]\n",
        "\n",
        "# Example usage:\n",
        "# export_solution(\"Heat Equation\", nx=100, nt=100)\n",
        "# X, T, U = load_solution()\n"
      ],
      "metadata": {
        "id": "ricISxggsXHA"
      },
      "execution_count": null,
      "outputs": []
    },
    {
      "cell_type": "markdown",
      "source": [
        "## 🔗 Step 7 — Preparing Data for a PINN\n",
        "\n",
        "If you’d like to feed this into a Physics-Informed Neural Network,  \n",
        "you can convert it into tensors suitable for PyTorch.\n"
      ],
      "metadata": {
        "id": "1QPdfr21tYOS"
      }
    },
    {
      "cell_type": "code",
      "source": [
        "import torch\n",
        "\n",
        "def prepare_torch_data(eq_name, nx=100, nt=100):\n",
        "    X, T = generate_grid_1D(nx, nt)\n",
        "    eq_funcs = {\n",
        "        \"Heat Equation\": heat_equation,\n",
        "        \"Burgers Equation\": burgers_equation,\n",
        "        \"Advection–Diffusion\": advection_diffusion,\n",
        "        \"Duffing Oscillator\": lambda x, t: duffing_oscillator(t),\n",
        "        \"Ornstein–Uhlenbeck\": lambda x, t: ornstein_uhlenbeck(t),\n",
        "        \"Exponential Growth\": lambda x, t: exponential_growth(t),\n",
        "        \"Poisson Steady State\": lambda x, t: poisson_steady(x),\n",
        "        \"Bio Steady State\": lambda x, t: bio_steady(x),\n",
        "    }\n",
        "    U = eq_funcs[eq_name](X, T)\n",
        "    x_tensor = torch.tensor(X.flatten(), dtype=torch.float32).reshape(-1, 1)\n",
        "    t_tensor = torch.tensor(T.flatten(), dtype=torch.float32).reshape(-1, 1)\n",
        "    u_tensor = torch.tensor(U.flatten(), dtype=torch.float32).reshape(-1, 1)\n",
        "    print(f\"✅ Data ready for {eq_name}: shape =\", u_tensor.shape)\n",
        "    return x_tensor, t_tensor, u_tensor\n",
        "\n",
        "# Example:\n",
        "# x, t, u = prepare_torch_data(\"Heat Equation\")\n"
      ],
      "metadata": {
        "id": "krlr2Xq2sim_"
      },
      "execution_count": null,
      "outputs": []
    },
    {
      "cell_type": "markdown",
      "source": [
        "# 🧠 Step 8 — Physics-Informed Neural Network (PINN) Example for the Heat Equation\n",
        "\n",
        "Let’s demonstrate a minimal PINN example for the **1D Heat Equation**:\n",
        "\n",
        "$$ \\frac{\\partial u}{\\partial t} = \\alpha \\frac{\\partial^2 u}{\\partial x^2}, \\quad x \\in [0, 1], \\ t \\in [0, 1] $$\n",
        "\n",
        "**Boundary/Initial Conditions**\n",
        "$$ u(0, t) = 0, \\quad u(1, t) = 0, \\quad u(x, 0) = \\sin(\\pi x) $$\n",
        "\n",
        "**Analytic Solution**\n",
        "$$ u(x, t) = e^{-\\alpha \\pi^2 t} \\sin(\\pi x) $$\n",
        "\n",
        "Domain: $x \\in [0,1], \\ t \\in [0,1]$\n",
        "\n",
        "Boundary Conditions: $u(0,t)=u(1,t)=0$\n",
        "\n",
        "Initial Condition: $u(x,0)=\\sin(\\pi x)$\n",
        "\n",
        "True Parameters: $D=0.01, \\ k=0.5$\n",
        "\n",
        "Inverse Objective: Infer $(D,k)$ from sparse, noisy observations of $u(x,t)$\n",
        "\n",
        "We’ll train a small neural network to **learn and reconstruct $u(x,t)$ and the unknown parameters $(D, k)$**,  \n",
        "while ensuring that the **governing PDE** is satisfied at collocation points.\n",
        "\n"
      ],
      "metadata": {
        "id": "HvXj0v7wttH4"
      }
    },
    {
      "cell_type": "code",
      "source": [
        "import numpy as np\n",
        "import torch\n",
        "import torch.nn as nn\n",
        "import matplotlib.pyplot as plt\n",
        "\n",
        "# true params\n",
        "D_true, k_true = 0.01, 0.5\n",
        "\n",
        "# domain\n",
        "nx, nt = 100, 100\n",
        "x = np.linspace(0, 1, nx)\n",
        "t = np.linspace(0, 1, nt)\n",
        "X, T = np.meshgrid(x, t)\n",
        "\n",
        "# analytic solution (separation of variables)\n",
        "u_true = np.exp(-(np.pi**2*D_true + k_true)*T) * np.sin(np.pi*X)\n",
        "\n",
        "# add Gaussian noise\n",
        "noise_level = 0.02\n",
        "u_noisy = u_true + noise_level * np.random.randn(*u_true.shape)\n",
        "\n",
        "# apply random masking (simulate missing sensors)\n",
        "mask = np.random.rand(*u_true.shape) < 0.2   # 20% observed\n",
        "u_obs = np.where(mask, u_noisy, np.nan)\n",
        "\n",
        "# convert to tensors\n",
        "x_torch = torch.tensor(X.flatten()[:,None], dtype=torch.float32)\n",
        "t_torch = torch.tensor(T.flatten()[:,None], dtype=torch.float32)\n",
        "u_torch = torch.tensor(u_noisy.flatten()[:,None], dtype=torch.float32)\n",
        "\n",
        "# plot\n",
        "plt.figure(figsize=(5,4))\n",
        "plt.imshow(u_obs, extent=[0,1,0,1], origin='lower', aspect='auto')\n",
        "plt.title(\"Noisy & Masked Observations of u(x,t)\")\n",
        "plt.xlabel(\"x\"); plt.ylabel(\"t\")\n",
        "plt.colorbar(label=\"u\")\n",
        "plt.show()\n"
      ],
      "metadata": {
        "id": "odIETzfbye8J"
      },
      "execution_count": null,
      "outputs": []
    },
    {
      "cell_type": "code",
      "source": [
        "# simple MLP for u(x,t)\n",
        "class PINN(nn.Module):\n",
        "    def __init__(self):\n",
        "        super().__init__()\n",
        "        self.net = nn.Sequential(\n",
        "            nn.Linear(2, 64), nn.Tanh(),\n",
        "            nn.Linear(64, 64), nn.Tanh(),\n",
        "            nn.Linear(64, 64), nn.Tanh(),\n",
        "            nn.Linear(64, 1)\n",
        "        )\n",
        "        # learnable physical parameters\n",
        "        self.D = nn.Parameter(torch.tensor(0.005))  # initial guess\n",
        "        self.k = nn.Parameter(torch.tensor(0.1))\n",
        "\n",
        "    def forward(self, x, t):\n",
        "        X = torch.cat([x, t], dim=1)\n",
        "        return self.net(X)\n",
        "\n",
        "# instantiate model\n",
        "model = PINN()\n",
        "optimizer = torch.optim.Adam(model.parameters(), lr=1e-3)\n",
        "\n",
        "# collocation points (physics)\n",
        "n_col = 5000\n",
        "x_col = torch.rand(n_col, 1)\n",
        "t_col = torch.rand(n_col, 1)\n",
        "\n",
        "\n",
        "# observed points (subset)\n",
        "idx_obs = np.where(~np.isnan(u_obs.flatten()))[0]\n",
        "x_obs = x_torch[idx_obs]\n",
        "t_obs = t_torch[idx_obs]\n",
        "u_obs_t = u_torch[idx_obs]"
      ],
      "metadata": {
        "id": "TYJ9_Ih6uAZb"
      },
      "execution_count": null,
      "outputs": []
    },
    {
      "cell_type": "markdown",
      "source": [
        "## ⚙️ Step 9 — Define the Loss Function\n",
        "\n",
        "The total loss is a combination of:\n",
        "1. **Data Loss** — difference between predicted and known boundary/initial values.  \n",
        "2. **Physics Loss** — PDE residual ensuring the model obeys the heat equation:\n",
        "   $$  f = u_t - \\alpha u_{xx} = 0 $$\n"
      ],
      "metadata": {
        "id": "u742kIysuXzr"
      }
    },
    {
      "cell_type": "code",
      "source": [
        "# define physics residual\n",
        "def pde_residual(model, x, t):\n",
        "    x.requires_grad_(True)\n",
        "    t.requires_grad_(True)\n",
        "    u = model(x, t)\n",
        "    u_t = torch.autograd.grad(u, t, grad_outputs=torch.ones_like(u), create_graph=True)[0]\n",
        "    u_x = torch.autograd.grad(u, x, grad_outputs=torch.ones_like(u), create_graph=True)[0]\n",
        "    u_xx = torch.autograd.grad(u_x, x, grad_outputs=torch.ones_like(u), create_graph=True)[0]\n",
        "    return u_t - model.D * u_xx + model.k * u  # residual form"
      ],
      "metadata": {
        "id": "dTW_6HWkufoc"
      },
      "execution_count": null,
      "outputs": []
    },
    {
      "cell_type": "markdown",
      "source": [
        "## 🚀 Step 10 — Train the PINN\n",
        "\n",
        "Let’s train for ~2000 iterations and visualize convergence.\n"
      ],
      "metadata": {
        "id": "EZSW1CDbug8K"
      }
    },
    {
      "cell_type": "code",
      "source": [
        "lambda_d, lambda_p = 1.0, 0.1\n",
        "\n",
        "for epoch in range(4000):\n",
        "    optimizer.zero_grad()\n",
        "\n",
        "    # data loss\n",
        "    u_pred_obs = model(x_obs, t_obs)\n",
        "    loss_data = torch.mean((u_pred_obs - u_obs_t)**2)\n",
        "\n",
        "    # physics loss\n",
        "    res = pde_residual(model, x_col, t_col)\n",
        "    loss_phys = torch.mean(res**2)\n",
        "\n",
        "    loss = lambda_d * loss_data + lambda_p * loss_phys\n",
        "    loss.backward()\n",
        "    optimizer.step()\n",
        "\n",
        "    if epoch % 500 == 0:\n",
        "        print(f\"Epoch {epoch} | Total: {loss.item():.6f} | D: {model.D.item():.4f} | k: {model.k.item():.4f}\")"
      ],
      "metadata": {
        "id": "StEUuQq9ujmu"
      },
      "execution_count": null,
      "outputs": []
    },
    {
      "cell_type": "markdown",
      "source": [
        "## 🌈 Step 11 — Visualize Learned Solution\n",
        "\n",
        "Let’s compare the PINN’s output to the analytic solution."
      ],
      "metadata": {
        "id": "P9wU0A9hunfL"
      }
    },
    {
      "cell_type": "code",
      "source": [
        "# # predicted field\n",
        "# with torch.no_grad():\n",
        "#     u_pred = model(x_torch, t_torch).cpu().numpy().reshape(nt, nx)\n",
        "\n",
        "# plt.figure(figsize=(6,4))\n",
        "# plt.imshow(u_pred, extent=[0,1,0,1], origin='lower', aspect='auto')\n",
        "# plt.title(\"PINN Reconstruction of u(x,t)\")\n",
        "# plt.xlabel(\"x\"); plt.ylabel(\"t\")\n",
        "# plt.colorbar(label=\"u_pred\")\n",
        "# plt.show()\n",
        "\n",
        "# print(f\"Learned D = {model.D.item():.4f}, True D = {D_true}\")\n",
        "# print(f\"Learned k = {model.k.item():.4f}, True k = {k_true}\")\n",
        "\n",
        "device = torch.device(\"cuda\" if torch.cuda.is_available() else \"cpu\")\n",
        "# Evaluation grid\n",
        "x_eval = torch.linspace(0, 1, 100).reshape(-1, 1).to(device)\n",
        "t_eval = torch.linspace(0, 1, 100).reshape(-1, 1).to(device)\n",
        "X_eval, T_eval = torch.meshgrid(x_eval.squeeze(), t_eval.squeeze(), indexing='ij')\n",
        "\n",
        "x_eval_flat, t_eval_flat = X_eval.reshape(-1, 1), T_eval.reshape(-1, 1)\n",
        "u_pred = model(x_eval_flat, t_eval_flat).detach().cpu().numpy().reshape(100, 100)\n",
        "u_true = np.exp(-(np.pi**2*D_true + k_true)*T_eval.detach().cpu().numpy()) * np.sin(np.pi*X_eval.detach().cpu().numpy())\n",
        "\n",
        "\n",
        "fig, axs = plt.subplots(1,3, figsize = (10,4))\n",
        "im1 = axs[0].pcolormesh(X_eval.cpu(), T_eval.cpu(), u_true, cmap=\"hot\", shading='auto')\n",
        "axs[0].title.set_text(\"Analytic Solution\")\n",
        "plt.colorbar(im1, ax = axs[0])\n",
        "\n",
        "im2 = axs[1].pcolormesh(X_eval.cpu(), T_eval.cpu(), u_pred, cmap=\"hot\", shading='auto')\n",
        "axs[1].title.set_text(\"PINN Prediction\")\n",
        "plt.colorbar(im2, ax = axs[1])\n",
        "\n",
        "\n",
        "im3 = axs[2].pcolormesh(X_eval.cpu(), T_eval.cpu(), 100*np.abs(u_pred - u_true)/np.mean(np.abs(u_true)), cmap=\"BuPu\", shading='auto')\n",
        "axs[2].title.set_text(\"Percentage Relative Error\")\n",
        "plt.colorbar(im3, ax = axs[2])\n",
        "plt.tight_layout()\n",
        "plt.show()\n",
        "\n",
        "\n"
      ],
      "metadata": {
        "id": "eB2xoqV7up7v"
      },
      "execution_count": null,
      "outputs": []
    },
    {
      "cell_type": "markdown",
      "source": [
        "# 🧭 Step 12 — Discussion and Extensions\n",
        "\n",
        "**You’ve just trained your first PINN!**\n",
        "\n",
        "Here’s what happened:\n",
        "1. The network learned `u(x,t)` not just from data — but also from **physics constraints**.  \n",
        "2. This enforces **generalization** even where no data is given (e.g., interior points).  \n",
        "3. The method easily extends to:\n",
        "   - **Material Science:** Diffusion or fracture PDEs  \n",
        "   - **Fluid Dynamics:** Navier–Stokes surrogates  \n",
        "   - **Finance:** Black–Scholes PDEs  \n",
        "   - **Climate Models:** Advection–diffusion or radiative transfer  \n",
        "   - **Electromagnetics:** Wave / Helmholtz equations  \n",
        "\n",
        "Next, try swapping in your favorite domain PDE from the earlier dropdowns  \n",
        "and see how you can formulate its PINN residual! ⚡\n",
        "\n",
        "Each of the following can reuse the previous cells and you only change:\n",
        "| Domain                 | Replace PDE Residual          | Learnable Params     | Notes                                |\n",
        "| ---------------------- | ----------------------------- | -------------------- | ------------------------------------ |\n",
        "| **Burgers’**           | $u_t + uu_x - νu_{xx}$        | $ν$ = nn.Parameter() | Increase collocation (~10k)          |\n",
        "| **Duffing**            | $y_{tt} + cy_t + ky + βy^3$ | $c, β$               | Time-only domain                     |\n",
        "| **Ornstein–Uhlenbeck** | $m_t - κ(θ - m)$             | $κ, θ$               | Fast 1D ODE                          |\n",
        "| **Biology (source)**   | $u_t - Du_{xx} - S(x)$         | $S(x)$ via small NN  | Add smoothness regularizer           |\n",
        "| **EM Poisson**         | $(εu_x)_x - s(x)$            | $s(x)$ via small NN  | Steady (no t term)                   |\n",
        "| **Beam Bending**       | $w_{xxxx} - q(x)/(EI)$          | $q(x)$ via small NN  | Use `torch.autograd.grad` four times |\n"
      ],
      "metadata": {
        "id": "i3t9h_-VutDZ"
      }
    },
    {
      "cell_type": "code",
      "source": [],
      "metadata": {
        "id": "bVhTExJLuwsK"
      },
      "execution_count": null,
      "outputs": []
    }
  ]
}